{
 "cells": [
  {
   "cell_type": "code",
   "execution_count": 54,
   "id": "7654d9f2-4890-402e-ba25-36e3a5d2a62c",
   "metadata": {},
   "outputs": [],
   "source": [
    "%matplotlib inline\n",
    "import streamlit as st\n",
    "import yfinance as yf\n",
    "import pandas as pd\n",
    "import matplotlib.pyplot as plt\n",
    "from datetime import datetime, timedelta\n",
    "import numpy as np\n",
    "from scipy.optimize import minimize\n",
    "from neuralprophet import NeuralProphet"
   ]
  },
  {
   "cell_type": "code",
   "execution_count": 7,
   "id": "d053a93a-cba5-40ab-86bb-b20226063b97",
   "metadata": {},
   "outputs": [],
   "source": [
    "def get_asset_tickers():\n",
    "    return {\n",
    "        \"Apple Inc. (AAPL)\": \"AAPL\",\n",
    "        \"Tesla Inc. (TSLA)\": \"TSLA\",\n",
    "        \"USD/UAH (Курс долара до гривні)\": \"USDUAH=X\",\n",
    "        \"Gold (Золото)\": \"GC=F\",\n",
    "        \"Cocoa Futures (Ф'ючерси на какао)\": \"CC=F\",\n",
    "        \"Coffee Futures (Ф'ючерси на каву)\": \"KC=F\",\n",
    "        \"Bitcoin to USD (Біткоїн за долари)\": \"BTC-USD\",\n",
    "        \"Ethereum to USD (Ефір за долари)\": \"ETH-USD\",\n",
    "        \"S&P 500 Index (SP500)\": \"^GSPC\",\n",
    "        \"Real Estate Investment Trust (VNQ)\": \"VNQ\"\n",
    "    }"
   ]
  },
  {
   "cell_type": "code",
   "execution_count": 8,
   "id": "99e349f3-b926-4d38-9d79-7e1ec63d25f7",
   "metadata": {},
   "outputs": [
    {
     "name": "stderr",
     "output_type": "stream",
     "text": [
      "[*********************100%***********************]  10 of 10 completed\n"
     ]
    }
   ],
   "source": [
    "def get_stock_data(tickers, retries=3, delay=5):\n",
    "    for i in range(retries):\n",
    "        try:\n",
    "            data = yf.download(list(tickers.values()), period=\"360d\", interval=\"1d\", auto_adjust=True)\n",
    "            if not data.empty:\n",
    "                return data[\"Close\"].dropna()\n",
    "        except Exception as e:\n",
    "            time.sleep(delay)\n",
    "    return None\n",
    "\n",
    "data = get_stock_data(get_asset_tickers())"
   ]
  },
  {
   "cell_type": "code",
   "execution_count": 9,
   "id": "ca631ede-f087-4493-a250-b3f8723fceed",
   "metadata": {},
   "outputs": [],
   "source": [
    "def plot_price_dynamics(df):\n",
    "    fig, axes = plt.subplots(4, 3, figsize=(15, 12))\n",
    "    axes = axes.flatten()\n",
    "    \n",
    "    date_index = df.index\n",
    "    midpoint = len(date_index) // 2  # Halfway point to plot only first half of data\n",
    "    \n",
    "    for i, asset in enumerate(df.columns):\n",
    "        if i >= 12:  # Limit to 12 charts\n",
    "            break\n",
    "        \n",
    "        axes[i].plot(date_index, df[asset], color='gray', alpha=0.3)  # Full range for context\n",
    "        axes[i].plot(date_index[:midpoint], df[asset].iloc[:midpoint], color='blue')  # First half of data\n",
    "        axes[i].set_title(asset)\n",
    "        axes[i].tick_params(axis='x', rotation=45)\n",
    "    \n",
    "    plt.tight_layout()\n",
    "    plt.draw()"
   ]
  },
  {
   "cell_type": "code",
   "execution_count": 10,
   "id": "1d8e1188-68c0-4a44-8732-d1336591864a",
   "metadata": {},
   "outputs": [
    {
     "data": {
      "image/png": "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